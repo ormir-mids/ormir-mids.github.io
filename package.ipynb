{
 "cells": [
  {
   "cell_type": "markdown",
   "id": "26be42bc-4e92-4c16-8716-4e09bb688df7",
   "metadata": {},
   "source": [
    "(package)=\n",
    "# ORMIR-MIDS AS A PYTHON PACKAGE"
   ]
  },
  {
   "cell_type": "markdown",
   "id": "a307f409-a0b0-4cd4-9efe-9d2068bd6e8c",
   "metadata": {},
   "source": [
    "We are working on a Python package to implement the conversion between DICOM and ORMIR-MIDS data structure. You can find it on [GitHub](https://github.com/ormir-mids/ormir-mids)\n",
    "\n",
    "\n",
    "The package provides also functions for the input/output of ORMIR-MIDS datasets in Python programs, including functions to identify the desired scan type, read header fields, etc.\n",
    "\n",
    "To learn how to use and contribute to ORMIR-MIDS, refer to the [Read Me](https://github.com/ormir-mids/ormir-mids/blob/main/README.md) file in the [GitHub repository](https://github.com/ormir-mids/ormir-mids)\n",
    "\n",
    "<!-- In this page, you will get to know: \n",
    "\n",
    "1. [How to install and learn to use ORMIR-MIDS](installing)\n",
    "2. [How ORMIR-MIDS works and how to contribute](how-it-works) -->"
   ]
  },
  {
   "cell_type": "markdown",
   "id": "ea551962",
   "metadata": {},
   "source": [
    "<hr style=\"height:0.5px;border:none;color:#333;background-color:#333;\">"
   ]
  },
  {
   "cell_type": "code",
   "execution_count": null,
   "id": "09ff36bb-ee22-48c4-b6f1-9f28b92df334",
   "metadata": {},
   "outputs": [],
   "source": []
  }
 ],
 "metadata": {
  "kernelspec": {
   "display_name": "Python 3 (ipykernel)",
   "language": "python",
   "name": "python3"
  },
  "language_info": {
   "codemirror_mode": {
    "name": "ipython",
    "version": 3
   },
   "file_extension": ".py",
   "mimetype": "text/x-python",
   "name": "python",
   "nbconvert_exporter": "python",
   "pygments_lexer": "ipython3",
   "version": "3.9.6"
  }
 },
 "nbformat": 4,
 "nbformat_minor": 5
}
