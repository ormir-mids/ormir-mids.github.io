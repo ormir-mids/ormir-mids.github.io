{
 "cells": [
  {
   "cell_type": "markdown",
   "id": "26be42bc-4e92-4c16-8716-4e09bb688df7",
   "metadata": {},
   "source": [
    "(package)=\n",
    "# ORMIR-MIDS AS A PYTHON PACKAGE"
   ]
  },
  {
   "cell_type": "markdown",
   "id": "a307f409-a0b0-4cd4-9efe-9d2068bd6e8c",
   "metadata": {},
   "source": [
    "We are working on a Python package to implement the conversion between DICOM and ORMIR-MIDS data structure\n",
    "The package provides also functions for the input/output of ORMIR-MIDS datasets in Python programs, including functions to identify the desired scan type, read header fields, etc.\n",
    "\n",
    "In this page, you will get to know: \n",
    "\n",
    "1. [How to install and learn to use ORMIR-MIDS](installing)\n",
    "2. [How ORMIR-MIDS works and how to contribute](how-it-works)"
   ]
  },
  {
   "cell_type": "markdown",
   "id": "ea551962",
   "metadata": {},
   "source": [
    "<hr style=\"height:0.5px;border:none;color:#333;background-color:#333;\">"
   ]
  },
  {
   "cell_type": "markdown",
   "id": "efea3689-577a-42b6-a835-b7db185e8759",
   "metadata": {},
   "source": [
    "(installing)=\n",
    "## Installing and learning ORMIR-MIDS\n",
    "\n",
    "Coming soon!\n",
    "\n",
    "<!-- % The numbers supplied in the argument are column counts to be used on different screen sizes e.g. 1 1 2 3 corresponding to extra-small (<576px), small (768px), medium (992px) and large screens (>1200px)\n",
    "::::{grid} 1 1 2 3\n",
    "\n",
    ":::{card}\n",
    ":header: ✏️ **Tutorials**\n",
    "Learn how to use ORMIR-MIDS in your computational pipelines\n",
    ":::\n",
    "\n",
    ":::{card}\n",
    ":link:  https://github.com/ormir-mids/ormir-mids\n",
    ":header: 🚀 **GitHub repository**\n",
    "Check out the source code of ORMIR-MIDS and learn [how to contribute](https://github.com/ormir-mids/ormir-mids.github.io/CONTRIBUTING.md)\n",
    ":::\n",
    "\n",
    "\n",
    "\n",
    ":::{card}\n",
    ":header: ⏭ **More...**\n",
    "Learn more about the ORMIR-MIDS package on this website\n",
    ":::\n",
    "\n",
    "::::\n",
    " -->"
   ]
  },
  {
   "cell_type": "markdown",
   "id": "a490ea80",
   "metadata": {},
   "source": [
    "<hr style=\"height:0.5px;border:none;color:#333;background-color:#333;\">"
   ]
  },
  {
   "cell_type": "markdown",
   "id": "4d1b8e68-d30d-46d2-94e1-b8bf95f94585",
   "metadata": {},
   "source": [
    "(how-it-works)=\n",
    "## How ORMIR-MIDS works and how to contribute"
   ]
  },
  {
   "cell_type": "markdown",
   "id": "cd3915ba-b5eb-4624-88cd-c7fa4ae82d68",
   "metadata": {},
   "source": [
    "(supported-methods)=\n",
    "### Supported imaging methods\n",
    "\n",
    "\n",
    "In the following tables, you will find the image data types that are currently implemented or under development in ORMIR-MIDS. The table columns specify:  \n",
    "- **Imaging method**: the image acquisition method (`computed tomography`, `MR imaging`, etc.)\n",
    "- **Folder name**: name of the output folder containing the images (e.g., `mr-anat`, `ct`, etc.). See the {ref}`specifications <folder-structure>` for more details\n",
    "- **File name suffix**: suffix of the file name of the image volume (e.g., `mese`, `megre`, etc.). See the {ref}`file naming specifications <naming>` for more details\n",
    "- **Image volume**: dimension (`2D`, `3D`, or `4D`) and directions (`x`, `y`, `z`, `echo`) of the obtained image volume (i.e., `nii` files)\n",
    "- **JSON fields**: information that the dicom header must have to be able to transform the data into the ORMIR-MIDS structure"
   ]
  },
  {
   "cell_type": "markdown",
   "id": "bca7c249-28fe-4318-978d-0669fd6f2c4e",
   "metadata": {},
   "source": [
    "```{list-table}\n",
    ":header-rows: 1\n",
    "\n",
    "* - Imaging method\n",
    "  - Folder name\n",
    "  - File name suffix\n",
    "  - Image volume\n",
    "  - JSON fields\n",
    "* - Computed tomography\n",
    "  - ct\n",
    "  - N/A\n",
    "  - 3D (x,y,z)\n",
    "  - XRayEnergy in kVp \n",
    "    <br> XRayExposure in mAs\n",
    "* - Computed / plain radiography\n",
    "  - cr\n",
    "  - N/A\n",
    "  - 2D (x,y)\n",
    "  - ExposureTime in ms \n",
    "    <br> X-RayTubeCurrent in mA\n",
    "* - MRI: Multi-echo gradient echo\n",
    "  - mr-anat\n",
    "  - megre\n",
    "  - 4D (x,y,z,echo)\n",
    "  - EchoTime (array) in ms \n",
    "    <br> WaterFatShift in pixels \n",
    "    <br> MagneticFieldStrength \n",
    "    <br> *proposed:* ReadoutMode: Monopolar/Bipolar \n",
    "    <br> *proposed:* PrecessionDirection: Counter-/Clockwise\n",
    "* - MRI: Multi-echo spin echo\n",
    "  - mr-anat\n",
    "  - mese\n",
    "  - 4D (x,y,z,echo)\n",
    "  - EchoTime (array) in ms <br>\t\n",
    "    RefocusingFlipAngle in degrees<br>\n",
    "    *optional:* ExcitationProfile and RefocusingProfile (arrays) providing the slice profiles in degrees\n",
    "* - MRI: T1w / T1w-FS / T2w / T2w-FS\n",
    "  - mr-anat\n",
    "  - t1w / t1w-fs / t2w / t2w-fs\n",
    "  - 3D (x,y,z)\n",
    "  - \n",
    "* - MRI: Quantitative T1 / T2 / wT2\n",
    "  - mr-quant\n",
    "  - t1 / t2 / wt2\n",
    "  - 3D (x,y,z)\n",
    "  - \n",
    "```"
   ]
  },
  {
   "cell_type": "markdown",
   "id": "88b07821-2196-4a68-a127-344d416f6061",
   "metadata": {},
   "source": [
    "In the future, we plan on providing conversions for HR-pQCT, MRI: Phase contrast, MRI: DESS, MRI: Diffusion, and derived data, such as segmentation labels\n",
    "\n",
    "<!-- <table>\n",
    "    <tr>\n",
    "        <th>Imaging method/sequence</th>\n",
    "        <th>NIfTI structure</th>\n",
    "        <th>Filename suffix</th>\n",
    "        <th>Folder</th>\n",
    "        <th>JSON required fields</th>\n",
    "    </tr>\n",
    "    <tr>\n",
    "        <td>High-resolution peripheral quantitative computed tomography</td>\n",
    "        <td>3D (x,y,z)</td>\n",
    "        <td>N/A</td>\n",
    "        <td>hrpqct</td>\n",
    "        <td>\n",
    "            <ul> \n",
    "                <li>XRayEnergy in kVp</li>\t\n",
    "                <li>XRayExposure in mAs</li>\n",
    "            </ul>\n",
    "        </td>\n",
    "    </tr>\n",
    "    <tr>\n",
    "        <td>MRI: Phase contrast</td>\n",
    "        <td>4D (x,y,z,t) + suffix per venc direction</td>\n",
    "        <td>pc_mag / pc_ph_1 / pc_ph_2 / pc_ph_3</td>\n",
    "        <td>mr-flow?? The velocity information is stored as phase data scaled between -π and +π</td>\n",
    "        <td>\n",
    "            <ul> \n",
    "                <li>Venc in cm/s</li>\t\n",
    "                <li>EncodingDirection (3D vector) for each phase volume, indicating the direction of the positive velocity encoding for that volume. TBD: patient coordinate system or image coordinate system</li> \n",
    "            </ul>\n",
    "        </td>\n",
    "    </tr>\n",
    "    <tr>\n",
    "        <td>MRI: DESS</td>\n",
    "        <td>4D (x,y,z,echo)</td>\n",
    "        <td>dess</td>\n",
    "        <td>mr-anat</td>\n",
    "        <td>\n",
    "            <ul> \n",
    "                <li>EchoTime (array) in ms</li>\t\n",
    "            </ul>\n",
    "        </td>\n",
    "    </tr>\n",
    "    <tr>\n",
    "        <td>MRI: Diffusion</td>\n",
    "        <td>4D (x,y,z,direction)</td>\n",
    "        <td>diff</td>\n",
    "        <td>mr-diff</td>\n",
    "        <td>\n",
    "            <ul> \n",
    "                <li>MixingTime in ms</li>\t\n",
    "                <li>EncodingDirection (array of 3D vectors). The norm of the vector is the b-value. The normalized vector indicates the direction of the diffusion gradient in patient coordinates</li> \n",
    "            </ul>\n",
    "        </td>\n",
    "    </tr>\n",
    "    <tr>\n",
    "        <td>Segmentation labels</td>\n",
    "        <td>\n",
    "            <ul>\n",
    "                <li>3D (x,y,z) with integer values, 0---N, each corresponding to a different label</li>\n",
    "                <li>4D (x,y,z,label) stack of binary (0/1) values, each dimension corresponding to a label</li>\n",
    "            </ul>\n",
    "        </td>\n",
    "        <td>seg??</td>\n",
    "        <td>seg??</td>\n",
    "        <td>\n",
    "            <ul>\n",
    "                <li>Labels (array of strings). List of the labels represented in the masks. The first value in the list corresponds to either a gray level of 0 or to the 1st volume in the fourth dimension. E.g. <i>[\"Background\", \"SOL\", \"VM\", \"VL\"]</i></li>\n",
    "                <li>Note: the string representation of the labels must follow a standardized format. While it is possible that the same anatomical structure is represented by different labels (e.g. <i>SOL</i> or <i>Soleus</i>), the labels must be known. This allows flexibility in the implementation of segmentation tools, while keeping easy interoperability because all values are easily convertible. A list of standardized labels is visible <a href=\"https://docs.google.com/spreadsheets/d/e/2PACX-1vS4gioDvbO_6VItFglPEWeXP0U86tfG1yYifTU-XXqk5kdN1vln6KVP6bzDNPw-_L8xvkZ0soQeyW8-/pubhtml#\">here</a>. Please contact <a href=\"mailto:francesco.santini@unibas.ch\">Francesco Santini</a> if you would like to add your own definitions</li>\n",
    "            </ul>\n",
    "        </td>\n",
    "    </tr>\n",
    "</table> -->"
   ]
  },
  {
   "cell_type": "markdown",
   "id": "f532b9dc-f010-438d-bed7-982fd46eff1d",
   "metadata": {},
   "source": [
    "<hr style=\"height:0.5px;border:none;color:#333;background-color:#333;\">"
   ]
  }
 ],
 "metadata": {
  "kernelspec": {
   "display_name": "Python 3 (ipykernel)",
   "language": "python",
   "name": "python3"
  },
  "language_info": {
   "codemirror_mode": {
    "name": "ipython",
    "version": 3
   },
   "file_extension": ".py",
   "mimetype": "text/x-python",
   "name": "python",
   "nbconvert_exporter": "python",
   "pygments_lexer": "ipython3",
   "version": "3.9.6"
  }
 },
 "nbformat": 4,
 "nbformat_minor": 5
}
