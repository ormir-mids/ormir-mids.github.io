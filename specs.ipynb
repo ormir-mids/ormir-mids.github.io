{
 "cells": [
  {
   "cell_type": "markdown",
   "id": "25c9d27f-3c09-464f-8874-e47bd0e0ffb7",
   "metadata": {},
   "source": [
    "(specs)=\n",
    "# ORMIR-MIDS AS A STANDARD SPECIFICATION"
   ]
  },
  {
   "cell_type": "markdown",
   "id": "61bd9f83-2759-41a3-9199-16f9dcfe1dad",
   "metadata": {},
   "source": [
    "The ORMIR-MIDS specifications are a simple and intuitive way to organize MSK imaging data. They are an extension of the specifications of the Brain Imaging Data Structure ([BIDS](https://bids.neuroimaging.io/index.html)) and the Medical Imaging Data Structure ([MIDS](https://arxiv.org/abs/2010.00434))"
   ]
  },
  {
   "cell_type": "markdown",
   "id": "7922bca9-d495-4db7-b5be-3d89246e6883",
   "metadata": {},
   "source": [
    "In this page, you will get to know how folders and files are structured based on the ORMIR-MIDS standard\n",
    "<!-- 1. How the output folder and files are structured following the ORMIR-MIDS standard\n",
    "2. What imaging methods are currently supported and which ones are on our wish list! -->"
   ]
  },
  {
   "cell_type": "markdown",
   "id": "0371e5f6-4a5d-436f-9032-d7d643e18456",
   "metadata": {},
   "source": [
    "<hr style=\"height:0.5px;border:none;color:#333;background-color:#333;\">"
   ]
  },
  {
   "cell_type": "markdown",
   "id": "a6cb493a-242b-44a2-bd69-5217fca6f6bc",
   "metadata": {},
   "source": [
    "## Folder and file structure"
   ]
  },
  {
   "cell_type": "markdown",
   "id": "abb2682d-4450-4c90-a44b-ed6539c7bc65",
   "metadata": {},
   "source": [
    "(folder-structure)=\n",
    "### Folder structure  \n",
    "\n",
    "The folder structure is hierarchical and composed of 4 levels of nested folders:  \n",
    "`Dataset` &rarr; `Subject` &rarr; `Session` &rarr; `Imaging Method`\n",
    "\n",
    "```{figure} ./figures/folder_structure.png\n",
    ":label: folderStructure\n",
    ":alt: ORMIR-MIDS folder structure\n",
    ":height: 200px\n",
    ":align: center\n",
    "```\n",
    "\n",
    "- `Dataset`:  **root (or parent) folder** containing all the MSK data (E.g., *Dataset_organized*)\n",
    "- `Subject`: folder(s) containing all the **data about a single subject** (E.g., *sub-01* for the first subject)\n",
    "- `Session`: folder(s) containing the data of an acquisition session **at a specific time point**(E.g., *ses-01* for baseline acquisitions)\n",
    "- `Imaging Method`: folder(s) containing the **data of a specific acquisition**. (E.g., *mr-anat* for anatomical MR images). You can find the  currently supported imaging methods in {ref}`this table <supported-methods>`  \n"
   ]
  },
  {
   "cell_type": "markdown",
   "id": "6c7f69f0-aea3-45e4-9ebb-96f32e08e8b7",
   "metadata": {},
   "source": [
    "<hr style=\"height:0.5px;border:none;color:#333;background-color:#333;\">"
   ]
  },
  {
   "cell_type": "markdown",
   "id": "eb3391ce-9424-4ad2-945a-3651984f376e",
   "metadata": {},
   "source": [
    "### Filesystem structure\n",
    "\n",
    "Within each folder or subfolder, there are very specific files:\n",
    "\n",
    "```{figure} ./figures/filesystem_structure.png\n",
    ":label: filesystemStructure\n",
    ":alt: ORMIR-MIDS file system structure\n",
    ":height: 200px\n",
    ":align: center\n",
    "```\n",
    "- `Participants' information`:\n",
    "- `Scans' information`:\n",
    "- `Session information`:\n",
    "- `Image volume`:\n",
    "- `Image information`:"
   ]
  },
  {
   "cell_type": "markdown",
   "id": "f649bccb-6d30-48b5-98b2-07ce7b30175c",
   "metadata": {},
   "source": [
    "<hr style=\"height:0.5px;border:none;color:#333;background-color:#333;\">"
   ]
  },
  {
   "cell_type": "markdown",
   "id": "1b190351-f186-4adb-a669-486553c17031",
   "metadata": {},
   "source": [
    "(naming)=\n",
    "### Naming convention\n",
    "\n",
    "```{figure} ./figures/nomenclature.png\n",
    ":label: filesystemStructure\n",
    ":alt: ORMIR-MIDS file system structure\n",
    ":height: 230px\n",
    ":align: center\n",
    "```"
   ]
  },
  {
   "cell_type": "markdown",
   "id": "2167901b-22f6-4acf-88d1-acaab57f3a25",
   "metadata": {},
   "source": [
    "- **Folder nomenclature**: Each folder name is composed of two parts:\n",
    "  1. `sub` or `ses`, indicating *subject* (blue in the figure above) or *session* (purple in the figure above) \n",
    "  2. `<ID>` of the *subject* or of the *session* (e.g., `01`)   \n",
    "  *Note*: The two parts are separated by dash (`-`)\n",
    "\n",
    "- **File nomenclature**: Each file name is composed of three parts, each of them containing information about:\n",
    "  1. *Subject*, such as `sub-01` (blue in the right figure above)\n",
    "  2. *Session*, such as `ses-01` (purple in the right figure above)\n",
    "  3. *File content*, such as `scans`, `metadata`, etc. (green in the left figure above). You can find the  currently supported file types in {ref}`this table <supported-methods>`    \n",
    "  *Note*: The three parts are separated by underscore (`_`) "
   ]
  },
  {
   "cell_type": "markdown",
   "id": "f532b9dc-f010-438d-bed7-982fd46eff1d",
   "metadata": {},
   "source": [
    "<hr style=\"height:0.5px;border:none;color:#333;background-color:#333;\">"
   ]
  }
 ],
 "metadata": {
  "kernelspec": {
   "display_name": "Python 3 (ipykernel)",
   "language": "python",
   "name": "python3"
  },
  "language_info": {
   "codemirror_mode": {
    "name": "ipython",
    "version": 3
   },
   "file_extension": ".py",
   "mimetype": "text/x-python",
   "name": "python",
   "nbconvert_exporter": "python",
   "pygments_lexer": "ipython3",
   "version": "3.9.6"
  }
 },
 "nbformat": 4,
 "nbformat_minor": 5
}
