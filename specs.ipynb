{
 "cells": [
  {
   "cell_type": "markdown",
   "id": "25c9d27f-3c09-464f-8874-e47bd0e0ffb7",
   "metadata": {},
   "source": [
    "(specs)=\n",
    "# ORMIR-MIDS AS A STANDARD SPECIFICATION"
   ]
  },
  {
   "cell_type": "markdown",
   "id": "61bd9f83-2759-41a3-9199-16f9dcfe1dad",
   "metadata": {},
   "source": [
    "The ORMIR-MIDS specifications are a simple and intuitive way to organize MSK imaging data. They are an extension of the specifications of the Brain Imaging Data Structure ([BIDS](https://bids.neuroimaging.io/index.html)) and the Medical Imaging Data Structure ([MIDS](https://arxiv.org/abs/2010.00434))"
   ]
  },
  {
   "cell_type": "markdown",
   "id": "7922bca9-d495-4db7-b5be-3d89246e6883",
   "metadata": {},
   "source": [
    "In this page, you will find:   \n",
    "{ref}`1. Structure and naming of folders and files<structure-naming>`  \n",
    "{ref}`2. Supported imaging modalities<supported-modalities>`  \n",
    "<!-- 1. How the output folder and files are structured following the ORMIR-MIDS standard\n",
    "2. What imaging methods are currently supported and which ones are on our wish list! -->"
   ]
  },
  {
   "cell_type": "markdown",
   "id": "0371e5f6-4a5d-436f-9032-d7d643e18456",
   "metadata": {},
   "source": [
    "<hr style=\"height:0.5px;border:none;color:#333;background-color:#333;\">"
   ]
  },
  {
   "cell_type": "markdown",
   "id": "a6cb493a-242b-44a2-bd69-5217fca6f6bc",
   "metadata": {},
   "source": [
    "(structure-naming)=\n",
    "## Structure and naming of folders and files"
   ]
  },
  {
   "cell_type": "markdown",
   "id": "abb2682d-4450-4c90-a44b-ed6539c7bc65",
   "metadata": {},
   "source": [
    "(folder-structure)=\n",
    "### Folder structure  \n",
    "\n",
    "The folder structure is hierarchical and composed of 4 levels of nested folders:  \n",
    "*Dataset* &rarr; *Subject* &rarr; *Session* &rarr; *Imaging Method*\n",
    "\n",
    "```{figure} ./figures/folder_structure.png\n",
    ":label: folderStructure\n",
    ":alt: ORMIR-MIDS folder structure\n",
    ":height: 200px\n",
    ":align: center\n",
    "```\n",
    "\n",
    "- *Dataset*:  **root (or parent) folder** containing all the MSK data (E.g., `Dataset_organized`)\n",
    "- *Subject*: folder(s) containing all the **data about a single subject** (E.g., `sub-01` for the first subject)\n",
    "- *Session*: folder(s) containing the data of an acquisition session **at a specific time point**(E.g., `ses-01` for baseline acquisitions)\n",
    "- *Imaging Method*: folder(s) containing the **data of a specific acquisition**. (E.g., `mr-anat` for anatomical MR images). You can find the  currently supported imaging methods in {ref}`this table <supported-modalities>`  \n"
   ]
  },
  {
   "cell_type": "markdown",
   "id": "6c7f69f0-aea3-45e4-9ebb-96f32e08e8b7",
   "metadata": {},
   "source": [
    "<hr style=\"height:0.5px;border:none;color:#333;background-color:#333;\">"
   ]
  },
  {
   "cell_type": "markdown",
   "id": "eb3391ce-9424-4ad2-945a-3651984f376e",
   "metadata": {},
   "source": [
    "### Filesystem structure\n",
    "\n",
    "Within each folder or subfolder, there are specific files:\n",
    "\n",
    "```{figure} ./figures/filesystem_structure.png\n",
    ":label: filesystemStructure\n",
    ":alt: ORMIR-MIDS file system structure\n",
    ":height: 200px\n",
    ":align: center\n",
    "```\n",
    "- *Participants' information*: definition under construction!\n",
    "- *Scans' information*: definition under construction!\n",
    "- *Session information*: definition under construction!\n",
    "- *Image volume*: **3D image** \n",
    "- *Image information*: **Header** of the dicom images in `.json` format"
   ]
  },
  {
   "cell_type": "markdown",
   "id": "f649bccb-6d30-48b5-98b2-07ce7b30175c",
   "metadata": {},
   "source": [
    "<hr style=\"height:0.5px;border:none;color:#333;background-color:#333;\">"
   ]
  },
  {
   "cell_type": "markdown",
   "id": "5bb1beac-b817-4249-a7ca-5b8c304f88e0",
   "metadata": {},
   "source": [
    "(naming)=\n",
    "### Folder naming\n",
    "- Folders have precise names:\n",
    "```{figure} ./figures/folder_nomenclature.png\n",
    ":label: folderNomenclature\n",
    ":alt: ORMIR-MIDS folder nomenclature\n",
    ":height: 230px\n",
    ":align: center\n",
    "```\n",
    "- Folder names referring to *subjects and sessions* are composed of two parts:\n",
    "  1. `sub` or `ses`, indicating *subject* (blue in the figure above) or *session* (purple in the figure above) \n",
    "  2. `<ID>` of the *subject* or of the *session* (e.g., `01`)   \n",
    "  \n",
    "  *Note*: The two parts are separated by dash (`-`)\n",
    "\n",
    "- Folder names referring to *image modalities* (yellow in the figure above) can have various names, such as `mr-anat`, `ct-edi`, etc. For a list of the available names, see the second column (called *Folder name*) in {ref}`the table below<supported-modalities>`    \n",
    "\n",
    " "
   ]
  },
  {
   "cell_type": "markdown",
   "id": "9ceb8242-e78f-4acf-b957-1d27050c3794",
   "metadata": {},
   "source": [
    "<hr style=\"height:0.5px;border:none;color:#333;background-color:#333;\">"
   ]
  },
  {
   "cell_type": "markdown",
   "id": "47df0bc7-0336-4d34-8229-0dd751f4982d",
   "metadata": {},
   "source": [
    "(file-naming)=\n",
    "### File naming\n",
    "- Files have precise names:\n",
    "```{figure} ./figures/file_nomenclature.png\n",
    ":label: fileNomenclature\n",
    ":alt: ORMIR-MIDS file nomenclature\n",
    ":height: 230px\n",
    ":align: center\n",
    "```\n",
    "- Each file name is composed of three parts, each of them containing information about:\n",
    "  1. *Subject*, such as `sub-01` (blue in the figure above)\n",
    "  2. *Session*, such as `ses-01` (purple in the figure above)\n",
    "  3. *File content*, such as `scans`, `metadata`, etc. (green in the figure above). For the images, you can find the  currently supported file types in {ref}`the table below<supported-modalities>`      \n",
    "\n",
    "  *Note*: The three parts are separated by underscore (`_`)\n",
    "\n",
    "  "
   ]
  },
  {
   "cell_type": "markdown",
   "id": "f532b9dc-f010-438d-bed7-982fd46eff1d",
   "metadata": {},
   "source": [
    "<hr style=\"height:0.5px;border:none;color:#333;background-color:#333;\">"
   ]
  },
  {
   "cell_type": "markdown",
   "id": "cd3915ba-b5eb-4624-88cd-c7fa4ae82d68",
   "metadata": {},
   "source": [
    "(supported-modalities)=\n",
    "## Supported imaging modalities\n",
    "\n",
    "\n",
    "In the following table, you will find the image data types that are currently implemented or under development in ORMIR-MIDS. The table columns specify:  \n",
    "- *Imaging method*: the image acquisition method, such as `computed tomography`, `MR imaging`, etc.\n",
    "- *Folder name*: name of the output folder containing the images (e.g., `mr-anat`, `ct-edi`, etc.). See the {ref}`folder naming specifications <folder-structure>` for more details\n",
    "- *File name suffix*: suffix of the file name of the image volume (e.g., `mese`, `megre`, etc.). See the {ref}`file naming specifications <file-naming>` for more details\n",
    "- *Image volume*: dimension (`2D`, `3D`, or `4D`) and directions (`x`, `y`, `z`, `echo`) of the obtained image volume (i.e., `nii.gz` files)\n",
    "- *JSON fields*: information that the DICOM header must have to be able to transform the data into the ORMIR-MIDS structure"
   ]
  },
  {
   "cell_type": "markdown",
   "id": "bca7c249-28fe-4318-978d-0669fd6f2c4e",
   "metadata": {},
   "source": [
    "```{list-table}\n",
    ":header-rows: 1\n",
    "\n",
    "* - Imaging method\n",
    "  - Folder name\n",
    "  - File name suffix\n",
    "  - Image volume\n",
    "  - JSON fields\n",
    "* - Computed tomography\n",
    "  - ct-edi, ct-pc\n",
    "  - N/A\n",
    "  - 3D (x,y,z)\n",
    "  - XRayEnergy in kVp \n",
    "    <br> XRayExposure in mAs\n",
    "* - Computed / plain radiography\n",
    "  - cr\n",
    "  - N/A\n",
    "  - 2D (x,y)\n",
    "  - ExposureTime in ms \n",
    "    <br> X-RayTubeCurrent in mA\n",
    "* - MRI: Multi-echo gradient echo\n",
    "  - mr-anat\n",
    "  - megre\n",
    "  - 4D (x,y,z,echo)\n",
    "  - EchoTime (array) in ms \n",
    "    <br> WaterFatShift in pixels \n",
    "    <br> MagneticFieldStrength \n",
    "    <br> *proposed:* ReadoutMode: Monopolar/Bipolar \n",
    "    <br> *proposed:* PrecessionDirection: Counter-/Clockwise\n",
    "* - MRI: Multi-echo spin echo\n",
    "  - mr-anat\n",
    "  - mese\n",
    "  - 4D (x,y,z,echo)\n",
    "  - EchoTime (array) in ms <br>\t\n",
    "    RefocusingFlipAngle in degrees<br>\n",
    "    *optional:* ExcitationProfile and RefocusingProfile (arrays) providing the slice profiles in degrees\n",
    "* - MRI: T1w / T1w-FS / T2w / T2w-FS\n",
    "  - mr-anat\n",
    "  - t1w / t1w-fs / t2w / t2w-fs\n",
    "  - 3D (x,y,z)\n",
    "  - \n",
    "* - MRI: Quantitative T1 / T2 / wT2\n",
    "  - mr-quant\n",
    "  - t1 / t2 / wt2\n",
    "  - 3D (x,y,z)\n",
    "  - \n",
    "```"
   ]
  },
  {
   "cell_type": "markdown",
   "id": "88b07821-2196-4a68-a127-344d416f6061",
   "metadata": {},
   "source": [
    "*Note*: We are also working on conversions for:\n",
    "- More imaging modalities, such as HR-pQCT, MRI phase contrast, MRI DESS, MRI Diffusion  \n",
    "- Derived data, such as segmentation labels\n",
    "\n",
    "<!-- <table>\n",
    "    <tr>\n",
    "        <th>Imaging method/sequence</th>\n",
    "        <th>NIfTI structure</th>\n",
    "        <th>Filename suffix</th>\n",
    "        <th>Folder</th>\n",
    "        <th>JSON required fields</th>\n",
    "    </tr>\n",
    "    <tr>\n",
    "        <td>High-resolution peripheral quantitative computed tomography</td>\n",
    "        <td>3D (x,y,z)</td>\n",
    "        <td>N/A</td>\n",
    "        <td>hrpqct</td>\n",
    "        <td>\n",
    "            <ul> \n",
    "                <li>XRayEnergy in kVp</li>\t\n",
    "                <li>XRayExposure in mAs</li>\n",
    "            </ul>\n",
    "        </td>\n",
    "    </tr>\n",
    "    <tr>\n",
    "        <td>MRI: Phase contrast</td>\n",
    "        <td>4D (x,y,z,t) + suffix per venc direction</td>\n",
    "        <td>pc_mag / pc_ph_1 / pc_ph_2 / pc_ph_3</td>\n",
    "        <td>mr-flow?? The velocity information is stored as phase data scaled between -π and +π</td>\n",
    "        <td>\n",
    "            <ul> \n",
    "                <li>Venc in cm/s</li>\t\n",
    "                <li>EncodingDirection (3D vector) for each phase volume, indicating the direction of the positive velocity encoding for that volume. TBD: patient coordinate system or image coordinate system</li> \n",
    "            </ul>\n",
    "        </td>\n",
    "    </tr>\n",
    "    <tr>\n",
    "        <td>MRI: DESS</td>\n",
    "        <td>4D (x,y,z,echo)</td>\n",
    "        <td>dess</td>\n",
    "        <td>mr-anat</td>\n",
    "        <td>\n",
    "            <ul> \n",
    "                <li>EchoTime (array) in ms</li>\t\n",
    "            </ul>\n",
    "        </td>\n",
    "    </tr>\n",
    "    <tr>\n",
    "        <td>MRI: Diffusion</td>\n",
    "        <td>4D (x,y,z,direction)</td>\n",
    "        <td>diff</td>\n",
    "        <td>mr-diff</td>\n",
    "        <td>\n",
    "            <ul> \n",
    "                <li>MixingTime in ms</li>\t\n",
    "                <li>EncodingDirection (array of 3D vectors). The norm of the vector is the b-value. The normalized vector indicates the direction of the diffusion gradient in patient coordinates</li> \n",
    "            </ul>\n",
    "        </td>\n",
    "    </tr>\n",
    "    <tr>\n",
    "        <td>Segmentation labels</td>\n",
    "        <td>\n",
    "            <ul>\n",
    "                <li>3D (x,y,z) with integer values, 0---N, each corresponding to a different label</li>\n",
    "                <li>4D (x,y,z,label) stack of binary (0/1) values, each dimension corresponding to a label</li>\n",
    "            </ul>\n",
    "        </td>\n",
    "        <td>seg??</td>\n",
    "        <td>seg??</td>\n",
    "        <td>\n",
    "            <ul>\n",
    "                <li>Labels (array of strings). List of the labels represented in the masks. The first value in the list corresponds to either a gray level of 0 or to the 1st volume in the fourth dimension. E.g. <i>[\"Background\", \"SOL\", \"VM\", \"VL\"]</i></li>\n",
    "                <li>Note: the string representation of the labels must follow a standardized format. While it is possible that the same anatomical structure is represented by different labels (e.g. <i>SOL</i> or <i>Soleus</i>), the labels must be known. This allows flexibility in the implementation of segmentation tools, while keeping easy interoperability because all values are easily convertible. A list of standardized labels is visible <a href=\"https://docs.google.com/spreadsheets/d/e/2PACX-1vS4gioDvbO_6VItFglPEWeXP0U86tfG1yYifTU-XXqk5kdN1vln6KVP6bzDNPw-_L8xvkZ0soQeyW8-/pubhtml#\">here</a>. Please contact <a href=\"mailto:francesco.santini@unibas.ch\">Francesco Santini</a> if you would like to add your own definitions</li>\n",
    "            </ul>\n",
    "        </td>\n",
    "    </tr>\n",
    "</table> -->"
   ]
  },
  {
   "cell_type": "markdown",
   "id": "b0a49bb8-29fb-4ce2-831f-4f2d5007d79c",
   "metadata": {},
   "source": [
    "<hr style=\"height:0.5px;border:none;color:#333;background-color:#333;\">"
   ]
  },
  {
   "cell_type": "code",
   "execution_count": null,
   "id": "c33158a8-b908-4156-8899-815f773cda9e",
   "metadata": {},
   "outputs": [],
   "source": []
  }
 ],
 "metadata": {
  "kernelspec": {
   "display_name": "Python 3 (ipykernel)",
   "language": "python",
   "name": "python3"
  },
  "language_info": {
   "codemirror_mode": {
    "name": "ipython",
    "version": 3
   },
   "file_extension": ".py",
   "mimetype": "text/x-python",
   "name": "python",
   "nbconvert_exporter": "python",
   "pygments_lexer": "ipython3",
   "version": "3.9.6"
  }
 },
 "nbformat": 4,
 "nbformat_minor": 5
}
