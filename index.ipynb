{
 "cells": [
  {
   "cell_type": "markdown",
   "id": "0a5d611f-a685-4ce0-aeba-4fa15735c9b2",
   "metadata": {},
   "source": [
    "# ORMIR-MIDS\n",
    "**Standardizing the structure of musculoskeletal imaging data**\n",
    "<!-- ---\n",
    "title: ORMIR-MIDS\n",
    "subtitle: Standardizing the organization of musculoskeletal imaging data\n",
    "authors:\n",
    "  - name: The ORMIR community\n",
    "    email: ormircommunity@gmail.com\n",
    "license: CC-BY-4.0\n",
    "keywords: MSK data, MSK imaging, ORMIR community, BIDS\n",
    "\n",
    "--- -->"
   ]
  },
  {
   "cell_type": "markdown",
   "id": "907494ff-7130-44b7-adf9-36fb023cf1cd",
   "metadata": {},
   "source": [
    "<br>\n",
    "<br>"
   ]
  },
  {
   "cell_type": "markdown",
   "id": "d25eb703-2617-4e33-a822-e51518e9a14a",
   "metadata": {},
   "source": [
    "```{image} ./figures/ORMIR-MIDS_figure.png\n",
    ":alt: ORMIR-MIDS data structure\n",
    ":width: 700px\n",
    ":align: center\n",
    "```"
   ]
  },
  {
   "cell_type": "markdown",
   "id": "7567c580-8b7b-4a5f-bdd4-85ba3b8640ef",
   "metadata": {},
   "source": [
    "<hr style=\"height:0.5px;border:none;color:#333;background-color:#333;\">"
   ]
  },
  {
   "cell_type": "markdown",
   "id": "b713ea52-ffef-4eb9-b184-8ba2a9d06606",
   "metadata": {},
   "source": [
    "## What is ORMIR-MIDS?"
   ]
  },
  {
   "cell_type": "markdown",
   "id": "04dfccc6-3717-4923-bd92-7d48c7f97656",
   "metadata": {},
   "source": [
    "Musculoskeletal (MSK) imaging data can be **structured in various ways**, depending on institutional, group, or personal preferences. \n",
    "\n",
    "Having a **standardized data structure** is highly desirable to **facilitate data sharing** and to provide a **common interface for processing and analysis software** to read and write data in an interoperable way \n",
    "\n",
    "Currently, **there is no defined standard** on how MSK imaging data should be structured. \n",
    "\n",
    "Inspired by the Brain Imaging Data Structure ([BIDS](https://bids.neuroimaging.io/index.html)) tools, the **[ORMIR](https://www.ormir.org/) community is creating ORMIR-MIDS** to structure MSK imaging data\n"
   ]
  },
  {
   "cell_type": "markdown",
   "id": "503d05cb-3c18-467e-b13f-a13184ed7fb8",
   "metadata": {},
   "source": [
    "ORMIR-MIDS includes two aspects:\n",
    "\n",
    "\n",
    "::::{grid}\n",
    ":gutter: 2\n",
    "\n",
    "\n",
    ":::{grid-item-card} ✏️ {ref}`A Standard Specification <specs>`\n",
    "How to organize MSK medical images and corresponding clinical information\n",
    ":::\n",
    "\n",
    ":::{grid-item-card} 🚀 {ref}`A Python Package <package>`\n",
    "To transform MSK imaging data into a standard structure\n",
    ":::\n",
    "\n",
    "::::\n",
    "\n",
    "\n",
    "\n",
    "<!-- The following code will be for MyST\n",
    "% The numbers supplied in the argument are column counts to be used on different screen sizes e.g. 1 1 2 3 corresponding to extra-small (<576px), small (768px), medium (992px) and large screens (>1200px)\n",
    "::::{grid} 1 1 2 2\n",
    "\n",
    ":::{card}\n",
    ":header: ✏️ **A Standard Specification**\n",
    "How to organize MSK medical images and corresponding clinical information\n",
    ":::\n",
    "\n",
    ":::{card}\n",
    ":header: 🚀 **A Python Package**\n",
    "To transform MSK imaging data into the standard structure\n",
    ":::\n",
    "\n",
    " -->"
   ]
  },
  {
   "cell_type": "markdown",
   "id": "6ab97195-325d-4161-ad33-65f02f62035c",
   "metadata": {},
   "source": [
    "<hr style=\"height:0.5px;border:none;color:#333;background-color:#333;\">"
   ]
  },
  {
   "cell_type": "markdown",
   "id": "96ce50a2-00b0-40ef-90d1-05b1be6aefbc",
   "metadata": {},
   "source": [
    "## Why is ORMIR-MIDS important for MSK computational tools?\n",
    "\n",
    "\n",
    "We want to have a **uniform interface** for software tools for MSK image processing and analysis.   \n",
    "Ideally, each tool will have a command-line interface with the following syntax:\n",
    "\n",
    "```\n",
    "msk_software_tool <patient_folder>\n",
    "```\n",
    "where `patient_folder` is the *location of the root (or parent) folder* containing the acquired data, structured according to the ORMIR-MIDS standard specification\n",
    "\n",
    "The MSK tools should also **output data in the correct format** in the same folder structure\n",
    "\n",
    "\n",
    "\n",
    "<!-- :::{important} Why is ORMIR-MIDS important for MSK computational tools?\n",
    ":class: dropdown\n",
    "\n",
    "We want to have a **uniform interface** for software tools for MSK image processing and analysis.   \n",
    "Ideally, each tool will have a command-line interface with the following syntax:\n",
    "\n",
    "```\n",
    "msk_software_tool <patient_folder>\n",
    "```\n",
    "Where `patient_folder` is the *location of the root (or parent) folder* containing the acquired data, and divided into subfolders according to the ORMIR-MIDS standard specification\n",
    "\n",
    "The MSK tools should also **output data in the correct format** in the same folder structure\n",
    "\n",
    "::: -->\n"
   ]
  },
  {
   "cell_type": "markdown",
   "id": "550bddc2-cd22-4084-8805-6e0af0aa90cf",
   "metadata": {},
   "source": [
    "<hr style=\"height:0.5px;border:none;color:#333;background-color:#333;\">"
   ]
  },
  {
   "cell_type": "markdown",
   "id": "40e567ba-8407-4984-8c4f-dd6b4ea7cc81",
   "metadata": {},
   "source": [
    ":::{admonition} Why the name ORMIR-MIDS? How did ORMIR-MIDS start?\n",
    ":class: hint\n",
    ":class: dropdown\n",
    "\n",
    "*ORMIR-MIDS* comes from ORMIR (Open and Reproducible Musculoskeletal Imaging Research) community and *MIDS*  (Medical Imaging Data Structure)\n",
    "\n",
    "The development of ORMIR-MIDS specification and package started during the 2nd [ORMIR](https://ormircommunity.github.io/) workshop [Sharing and Curating Open Data in Musculoskeletal Imaging Research](https://github.com/ORMIRcommunity/2024_2nd_ORMIR_WS/blob/main/README.md) and is currently ongoing. \n",
    "\n",
    "ORMIR-MIDS is an extension of [muscle-BIDS](https://github.com/muscle-bids/muscle-bids), which was partly developed during the 1st [ORMIR](https://ormircommunity.github.io/) workshop [Building the Jupyter Community in Musculoskeletal Imaging Research](https://github.com/JCMSK/2022_JCW/blob/main/README.md). \n",
    "\n",
    "Both [ORMIR-MIDS](https://github.com/ormir-mids/ormir-mids) and [muscle-BIDS](https://github.com/muscle-bids/muscle-bids) are part of the [ORMIR](https://ormircommunity.github.io/) community core projects.\n",
    "\n",
    "\n",
    "\n",
    ":::\n"
   ]
  },
  {
   "attachments": {},
   "cell_type": "markdown",
   "id": "81df2ce3-49bb-48b4-81d7-29e440ad0026",
   "metadata": {},
   "source": [
    ":::{admonition} How do I cite ORMIR-MIDS?\n",
    ":class: note\n",
    "\n",
    "Thank you for citing ORMIR-MIDS! Here is our publication:\n",
    "\n",
    "S. Bonaretti, M. A. Espinosa Hernandez, F. Chiumento, Y. Founas, M. Froeling, J. Hirvasniemi, G. Iori, Y. Lee, S. Matuschik, M. Monzon, F. Santini, D. Cameron. ***ORMIR-MIDS: An open standard for curating and sharing musculoskeletal imaging data***. 24{sup}`th` International Workshop on Quantitative Musculoskeletal Imaging (QMSKI). The Barossa Valley, South Australia. November 3-8, 2024. \n",
    "\n",
    ":::"
   ]
  },
  {
   "cell_type": "markdown",
   "id": "f532b9dc-f010-438d-bed7-982fd46eff1d",
   "metadata": {},
   "source": [
    "<hr style=\"height:0.5px;border:none;color:#333;background-color:#333;\">"
   ]
  },
  {
   "cell_type": "code",
   "execution_count": null,
   "id": "33af949a-1903-47a8-a29f-1df0fb109692",
   "metadata": {},
   "outputs": [],
   "source": []
  }
 ],
 "metadata": {
  "kernelspec": {
   "display_name": "Python 3 (ipykernel)",
   "language": "python",
   "name": "python3"
  },
  "language_info": {
   "codemirror_mode": {
    "name": "ipython",
    "version": 3
   },
   "file_extension": ".py",
   "mimetype": "text/x-python",
   "name": "python",
   "nbconvert_exporter": "python",
   "pygments_lexer": "ipython3",
   "version": "3.9.6"
  },
  "widgets": {
   "application/vnd.jupyter.widget-state+json": {
    "state": {},
    "version_major": 2,
    "version_minor": 0
   }
  }
 },
 "nbformat": 4,
 "nbformat_minor": 5
}
